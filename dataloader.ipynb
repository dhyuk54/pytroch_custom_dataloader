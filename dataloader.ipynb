{
 "cells": [
  {
   "cell_type": "markdown",
   "metadata": {},
   "source": [
    "## 数据集Dataloader制作"
   ]
  },
  {
   "cell_type": "markdown",
   "metadata": {},
   "source": [
    "### 如何自定义数据集：\n",
    "\n",
    "- 1.数据和标签的目录结构先搞定(得知道到哪读数据)\n",
    "- 2.写好读取数据和标签路径的函数(根据自己数据集情况来写)\n",
    "- 3.完成单个数据与标签读取函数(dataloader举一个例子)\n",
    "\n",
    "### 花朵数据集为例：\n",
    "\n",
    "- 原来数据集都是以文件夹为类别ID，换一个套路，用txt文件指定数据路径与标签\n",
    "- 任务就是在txt文件中获取图像路径与标签，然后把他们交给dataloader\n",
    "- 按照对应格式传递需要的数据和标签就可以啦"
   ]
  },
  {
   "cell_type": "code",
   "execution_count": null,
   "metadata": {
    "colab": {
     "base_uri": "https://localhost:8080/",
     "height": 530
    },
    "colab_type": "code",
    "id": "Qqk2lCKzYf-y",
    "outputId": "2354909a-d734-4dd8-e887-eb5373d9127e"
   },
   "outputs": [],
   "source": [
    "import os\n",
    "import matplotlib.pyplot as plt\n",
    "%matplotlib inline\n",
    "import numpy as np\n",
    "import torch\n",
    "from torch import nn\n",
    "import torch.optim as optim\n",
    "import torchvision\n",
    "#pip install torchvision\n",
    "from torchvision import transforms, models, datasets\n",
    "#https://pytorch.org/docs/stable/torchvision/index.html\n",
    "import imageio\n",
    "import time\n",
    "import warnings\n",
    "import random\n",
    "import sys\n",
    "import copy\n",
    "import json\n",
    "from PIL import Image"
   ]
  },
  {
   "cell_type": "markdown",
   "metadata": {},
   "source": [
    "## 先来分细节明白做什么！\n",
    "\n",
    "#### 任务1：读取txt文件中的路径和标签\n",
    "\n",
    "- 第一个小任务，从标注文件中(train.txt)读取数据和标签"
   ]
  },
  {
   "cell_type": "code",
   "execution_count": null,
   "metadata": {
    "collapsed": true
   },
   "outputs": [],
   "source": [
    "def load_annotations(ann_file):\n",
    "    data_infos = {}\n",
    "    with open(ann_file) as f:\n",
    "        samples = [x.strip().split(' ') for x in f.readlines()]\n",
    "        for filename, gt_label in samples:\n",
    "            data_infos[filename] = np.array(gt_label, dtype=np.int64)\n",
    "    return data_infos"
   ]
  },
  {
   "cell_type": "code",
   "execution_count": null,
   "metadata": {},
   "outputs": [],
   "source": [
    "print(load_annotations('./flower_data/train.txt'))"
   ]
  },
  {
   "cell_type": "markdown",
   "metadata": {},
   "source": [
    "#### 任务2：分别把数据和标签都存在list里\n",
    "\n",
    "- 因为dataloader到时候会在这里取数据"
   ]
  },
  {
   "cell_type": "code",
   "execution_count": null,
   "metadata": {
    "collapsed": true
   },
   "outputs": [],
   "source": [
    "img_label = load_annotations('./flower_data/train.txt')"
   ]
  },
  {
   "cell_type": "code",
   "execution_count": null,
   "metadata": {
    "collapsed": true
   },
   "outputs": [],
   "source": [
    "image_name = list(img_label.keys())\n",
    "label = list(img_label.values())"
   ]
  },
  {
   "cell_type": "code",
   "execution_count": null,
   "metadata": {},
   "outputs": [],
   "source": [
    "image_name"
   ]
  },
  {
   "cell_type": "code",
   "execution_count": null,
   "metadata": {},
   "outputs": [],
   "source": [
    "label"
   ]
  },
  {
   "cell_type": "markdown",
   "metadata": {},
   "source": [
    "#### 任务3：图像数据路径得完整\n",
    "\n",
    "- 因为一会咱得用这个路径去读数据，所以路径得加上前缀\n",
    "- 以后大家任务不同，数据不同，怎么加你看着来就行，反正得能读到图像"
   ]
  },
  {
   "cell_type": "code",
   "execution_count": null,
   "metadata": {
    "collapsed": true
   },
   "outputs": [],
   "source": [
    "data_dir = './flower_data/'\n",
    "train_dir = data_dir + '/train_filelist'\n",
    "valid_dir = data_dir + '/val_filelist'"
   ]
  },
  {
   "cell_type": "code",
   "execution_count": null,
   "metadata": {},
   "outputs": [],
   "source": [
    "image_path = [os.path.join(train_dir,img) for img in image_name]\n",
    "image_path"
   ]
  },
  {
   "cell_type": "markdown",
   "metadata": {},
   "source": [
    "#### 任务4：把上面那几个事得写在一起\n",
    "\n",
    "- 1.注意要使用from torch.utils.data import Dataset, DataLoader\n",
    "- 2.类名定义class FlowerDataset(Dataset)，其中FlowerDataset可以改成自己的名字\n",
    "- 3.def __init__(self, root_dir, ann_file, transform=None):要根据自己任务重写\n",
    "- 4.def __getitem__(self, idx):根据自己任务，返回图像数据和标签数据"
   ]
  },
  {
   "cell_type": "code",
   "execution_count": null,
   "metadata": {
    "collapsed": true
   },
   "outputs": [],
   "source": [
    "from torch.utils.data import Dataset, DataLoader\n",
    "class FlowerDataset(Dataset):\n",
    "    def __init__(self, root_dir, ann_file, transform=None):\n",
    "        self.ann_file = ann_file\n",
    "        self.root_dir = root_dir\n",
    "        self.img_label = self.load_annotations()\n",
    "        self.img = [os.path.join(self.root_dir,img) for img in list(self.img_label.keys())]\n",
    "        self.label = [label for label in list(self.img_label.values())]\n",
    "        self.transform = transform\n",
    " \n",
    "    def __len__(self):\n",
    "        return len(self.img)\n",
    " \n",
    "    def __getitem__(self, idx):\n",
    "        image = Image.open(self.img[idx])\n",
    "        label = self.label[idx]\n",
    "        if self.transform:\n",
    "            image = self.transform(image)\n",
    "        label = torch.from_numpy(np.array(label))\n",
    "        return image, label\n",
    "    def load_annotations(self):\n",
    "        data_infos = {}\n",
    "        with open(self.ann_file) as f:\n",
    "            samples = [x.strip().split(' ') for x in f.readlines()]\n",
    "            for filename, gt_label in samples:\n",
    "                data_infos[filename] = np.array(gt_label, dtype=np.int64)\n",
    "        return data_infos"
   ]
  },
  {
   "cell_type": "markdown",
   "metadata": {},
   "source": [
    "#### 任务5：数据预处理(transform)\n",
    "\n",
    "- 1.预处理的事都在上面的__getitem__中完成，需要对图像和标签进行转换,\n",
    "- 2.返回的数据和标签就是建模时模型的输入和损失函数中标签的输入，一定整明白自己模型里需要什么\n",
    "- 3.预处理这个事是你定的，不同的数据需要的方法也不一样，下面给出的是比较通用的方法"
   ]
  },
  {
   "cell_type": "code",
   "execution_count": null,
   "metadata": {
    "collapsed": true
   },
   "outputs": [],
   "source": [
    "data_transforms = {\n",
    "    'train': \n",
    "        transforms.Compose([\n",
    "        transforms.Resize(64),\n",
    "        transforms.RandomRotation(45),#随机旋转，-45到45度之间随机选\n",
    "        transforms.CenterCrop(64),#从中心开始裁剪\n",
    "        transforms.RandomHorizontalFlip(p=0.5),#随机水平翻转 选择一个概率概率\n",
    "        transforms.RandomVerticalFlip(p=0.5),#随机垂直翻转\n",
    "        transforms.ColorJitter(brightness=0.2, contrast=0.1, saturation=0.1, hue=0.1),#参数1为亮度，参数2为对比度，参数3为饱和度，参数4为色相\n",
    "        transforms.RandomGrayscale(p=0.025),#概率转换成灰度率，3通道就是R=G=B\n",
    "        transforms.ToTensor(),\n",
    "        transforms.Normalize([0.485, 0.456, 0.406], [0.229, 0.224, 0.225])#均值，标准差\n",
    "    ]),\n",
    "    'valid': \n",
    "        transforms.Compose([\n",
    "        transforms.Resize(64),\n",
    "        transforms.CenterCrop(64),\n",
    "        transforms.ToTensor(),\n",
    "        transforms.Normalize([0.485, 0.456, 0.406], [0.229, 0.224, 0.225])\n",
    "    ]),\n",
    "}"
   ]
  },
  {
   "cell_type": "markdown",
   "metadata": {},
   "source": [
    "#### 任务6：根据写好的class FlowerDataset(Dataset):来实例化我们的dataloader\n",
    "\n",
    "- 1.构建数据集：分别创建训练和验证用的数据集（如果需要测试集也一样的方法）\n",
    "- 2.用Torch给的DataLoader方法来实例化(batch多少自己定，根据你的显存来选合适的)"
   ]
  },
  {
   "cell_type": "code",
   "execution_count": null,
   "metadata": {
    "collapsed": true
   },
   "outputs": [],
   "source": [
    "train_dataset = FlowerDataset(root_dir=train_dir, ann_file = './flower_data/train.txt', transform=data_transforms['train'])"
   ]
  },
  {
   "cell_type": "code",
   "execution_count": null,
   "metadata": {
    "collapsed": true
   },
   "outputs": [],
   "source": [
    "val_dataset = FlowerDataset(root_dir=valid_dir, ann_file = './flower_data/val.txt', transform=data_transforms['valid'])"
   ]
  },
  {
   "cell_type": "code",
   "execution_count": null,
   "metadata": {
    "collapsed": true
   },
   "outputs": [],
   "source": [
    "train_loader = DataLoader(train_dataset, batch_size=64, shuffle=True)\n",
    "val_loader = DataLoader(val_dataset, batch_size=64, shuffle=True)"
   ]
  },
  {
   "cell_type": "code",
   "execution_count": null,
   "metadata": {},
   "outputs": [],
   "source": [
    "len(train_dataset)"
   ]
  },
  {
   "cell_type": "code",
   "execution_count": null,
   "metadata": {},
   "outputs": [],
   "source": [
    "len(val_dataset)"
   ]
  },
  {
   "cell_type": "markdown",
   "metadata": {},
   "source": [
    "#### 任务7：用之前先试试，整个数据和标签对应下，看看对不对\n",
    "\n",
    "- 1.先测试一下转换是否成功\n",
    "- 2.用这个方法：iter(train_loader).next()来试试，得到的数据和标签是啥\n",
    "- 3.看不出来就把图画出来，标签打印出来，确保自己做出的数据集没啥问题"
   ]
  },
  {
   "cell_type": "code",
   "execution_count": null,
   "metadata": {},
   "outputs": [],
   "source": [
    "train_iter = iter(train_loader)\n",
    "image, label = next(train_iter)\n",
    "sample = image[0].squeeze()\n",
    "sample = sample.permute((1, 2, 0)).numpy()\n",
    "sample *= [0.229, 0.224, 0.225]\n",
    "sample += [0.485, 0.456, 0.406]\n",
    "plt.imshow(sample)\n",
    "plt.show()\n",
    "print('Label is: {}'.format(label[0].numpy()))\n"
   ]
  },
  {
   "cell_type": "code",
   "execution_count": null,
   "metadata": {},
   "outputs": [],
   "source": [
    "val_iter = iter(val_loader)\n",
    "image, label = next(val_iter)\n",
    "sample = image[0].squeeze()\n",
    "sample = sample.permute((1, 2, 0)).numpy()\n",
    "sample *= [0.229, 0.224, 0.225]\n",
    "sample += [0.485, 0.456, 0.406]\n",
    "plt.imshow(sample)\n",
    "plt.show()\n",
    "print('Label is: {}'.format(label[0].numpy()))"
   ]
  },
  {
   "cell_type": "markdown",
   "metadata": {},
   "source": [
    "#### 任务8：咋用就是你来定了，定义网络模型"
   ]
  },
  {
   "cell_type": "code",
   "execution_count": null,
   "metadata": {
    "collapsed": true
   },
   "outputs": [],
   "source": [
    "dataloaders = {'train':train_loader,'valid':val_loader}"
   ]
  },
  {
   "cell_type": "code",
   "execution_count": null,
   "metadata": {
    "collapsed": true
   },
   "outputs": [],
   "source": [
    "model_name = 'resnet'  #可选的比较多 ['resnet', 'alexnet', 'vgg', 'squeezenet', 'densenet', 'inception']\n",
    "#是否用人家训练好的特征来做\n",
    "feature_extract = True "
   ]
  },
  {
   "cell_type": "code",
   "execution_count": null,
   "metadata": {},
   "outputs": [],
   "source": [
    "# 是否用GPU训练\n",
    "train_on_gpu = torch.cuda.is_available()\n",
    "\n",
    "if not train_on_gpu:\n",
    "    print('CUDA is not available.  Training on CPU ...')\n",
    "else:\n",
    "    print('CUDA is available!  Training on GPU ...')\n",
    "    \n",
    "device = torch.device(\"cuda:0\" if torch.cuda.is_available() else \"cpu\")"
   ]
  },
  {
   "cell_type": "code",
   "execution_count": null,
   "metadata": {},
   "outputs": [],
   "source": [
    "model_ft = models.resnet18()\n",
    "model_ft"
   ]
  },
  {
   "cell_type": "markdown",
   "source": [
    "#### 这种做法通常用于迁移学习,即利用预训练模型的卷积层作为特征提取器,然后替换全连接层以适应新的任务。\n",
    "#### 通过修改全连接层的输出大小,我们可以将预训练模型应用于不同的分类问题。同时,设置输入图像的大小可以确保图像在送入模型之前已经调整为适当的尺寸。\n"
   ],
   "metadata": {
    "collapsed": false
   }
  },
  {
   "cell_type": "code",
   "execution_count": null,
   "metadata": {},
   "outputs": [],
   "source": [
    "num_ftrs = model_ft.fc.in_features\n",
    "model_ft.fc = nn.Sequential(nn.Linear(num_ftrs, 102))\n",
    "input_size = 64\n",
    "model_ft"
   ]
  },
  {
   "cell_type": "code",
   "execution_count": null,
   "metadata": {
    "collapsed": true
   },
   "outputs": [],
   "source": [
    "# 优化器设置\n",
    "optimizer_ft = optim.Adam(model_ft.parameters(), lr=1e-3)\n",
    "scheduler = optim.lr_scheduler.StepLR(optimizer_ft, step_size=7, gamma=0.1)#学习率每7个epoch衰减成原来的1/10\n",
    "criterion = nn.CrossEntropyLoss()"
   ]
  },
  {
   "cell_type": "code",
   "execution_count": null,
   "metadata": {
    "collapsed": true
   },
   "outputs": [],
   "source": [
    "def train_model(model, dataloaders, criterion, optimizer, num_epochs=10, is_inception=False, filename='best.pth'):\n",
    "    since = time.time()\n",
    "    best_acc = 0\n",
    "    model.to(device)  # 将模型移到GPU上\n",
    "    \n",
    "    val_acc_history = []  # 记录每个epoch的验证准确率\n",
    "    train_acc_history = []  # 记录每个epoch的训练准确率 \n",
    "    train_losses = []  # 记录每个epoch的训练损失\n",
    "    valid_losses = []  # 记录每个epoch的验证损失\n",
    "    LRs = [optimizer.param_groups[0]['lr']]  # 记录每个epoch的学习率\n",
    "    \n",
    "    best_model_wts = copy.deepcopy(model.state_dict())  # 深拷贝模型的状态字典,用于保存最佳模型\n",
    "    \n",
    "    for epoch in range(num_epochs):\n",
    "        print('Epoch {}/{}'.format(epoch, num_epochs - 1))\n",
    "        print('-' * 10)\n",
    "    \n",
    "        # 每个epoch都有训练和验证两个阶段\n",
    "        for phase in ['train', 'valid']:\n",
    "            if phase == 'train':\n",
    "                model.train()  # 设置模型为训练模式\n",
    "            else:\n",
    "                model.eval()   # 设置模型为验证模式\n",
    "    \n",
    "            running_loss = 0.0  # 初始化运行损失\n",
    "            running_corrects = 0  # 初始化运行准确数\n",
    "    \n",
    "            # 遍历数据加载器获取数据\n",
    "            for inputs, labels in dataloaders[phase]:\n",
    "                inputs = inputs.to(device)  # 将输入数据移到GPU上\n",
    "                labels = labels.to(device)  # 将标签移到GPU上\n",
    "    \n",
    "                optimizer.zero_grad()  # 清空优化器梯度\n",
    "                \n",
    "                # 只在训练阶段计算和更新梯度\n",
    "                with torch.set_grad_enabled(phase == 'train'):\n",
    "                    outputs = model(inputs)  # 前向传播,获取输出\n",
    "                    loss = criterion(outputs, labels)  # 计算损失\n",
    "                    _, preds = torch.max(outputs, 1)  # 获取预测结果\n",
    "    \n",
    "                    # 如果是训练阶段,执行反向传播和优化\n",
    "                    if phase == 'train':\n",
    "                        loss.backward()  # 反向传播计算梯度\n",
    "                        optimizer.step()  # 更新模型参数\n",
    "    \n",
    "                # 统计损失和准确数\n",
    "                running_loss += loss.item() * inputs.size(0)\n",
    "                running_corrects += torch.sum(preds == labels.data)\n",
    "    \n",
    "            epoch_loss = running_loss / len(dataloaders[phase].dataset)  # 计算每个epoch的平均损失\n",
    "            epoch_acc = running_corrects.double() / len(dataloaders[phase].dataset)  # 计算每个epoch的准确率\n",
    "            \n",
    "            time_elapsed = time.time() - since\n",
    "            print('Time elapsed {:.0f}m {:.0f}s'.format(time_elapsed // 60, time_elapsed % 60))\n",
    "            print('{} Loss: {:.4f} Acc: {:.4f}'.format(phase, epoch_loss, epoch_acc))\n",
    "                       \n",
    "            # 如果是验证阶段,且准确率优于之前的最佳准确率,保存当前模型为最佳模型\n",
    "            if phase == 'valid' and epoch_acc > best_acc:\n",
    "                best_acc = epoch_acc\n",
    "                best_model_wts = copy.deepcopy(model.state_dict())\n",
    "                state = {\n",
    "                  'state_dict': model.state_dict(),  # 模型的状态字典\n",
    "                  'best_acc': best_acc,  # 最佳准确率\n",
    "                  'optimizer' : optimizer.state_dict(),  # 优化器的状态字典\n",
    "                }\n",
    "                torch.save(state, filename)  # 保存最佳模型\n",
    "                \n",
    "            if phase == 'valid':\n",
    "                val_acc_history.append(epoch_acc)  # 记录验证准确率\n",
    "                valid_losses.append(epoch_loss)  # 记录验证损失\n",
    "                scheduler.step(epoch_loss)  # 学习率调度,根据验证损失调整学习率\n",
    "                \n",
    "            if phase == 'train':\n",
    "                train_acc_history.append(epoch_acc)  # 记录训练准确率  \n",
    "                train_losses.append(epoch_loss)  # 记录训练损失\n",
    "        \n",
    "        print('Optimizer learning rate : {:.7f}'.format(optimizer.param_groups[0]['lr']))\n",
    "        LRs.append(optimizer.param_groups[0]['lr'])  # 记录当前学习率\n",
    "        print()\n",
    "    \n",
    "    time_elapsed = time.time() - since\n",
    "    print('Training complete in {:.0f}m {:.0f}s'.format(time_elapsed // 60, time_elapsed % 60))  \n",
    "    print('Best val Acc: {:4f}'.format(best_acc))\n",
    "    \n",
    "    # 训练结束后用最佳模型的参数更新当前模型\n",
    "    model.load_state_dict(best_model_wts)\n",
    "    \n",
    "    # 返回训练好的模型、验证准确率历史、训练准确率历史、验证损失历史、训练损失历史、学习率历史\n",
    "    return model, val_acc_history, train_acc_history, valid_losses, train_losses, LRs"
   ]
  },
  {
   "cell_type": "code",
   "execution_count": null,
   "metadata": {},
   "outputs": [],
   "source": [
    "model_ft, val_acc_history, train_acc_history, valid_losses, train_losses, LRs  = train_model(model_ft, dataloaders, criterion, optimizer_ft, num_epochs=20, filename='best.pth')"
   ]
  },
  {
   "cell_type": "code",
   "execution_count": null,
   "metadata": {
    "collapsed": true
   },
   "outputs": [],
   "source": []
  },
  {
   "cell_type": "code",
   "execution_count": null,
   "metadata": {
    "collapsed": true
   },
   "outputs": [],
   "source": []
  }
 ],
 "metadata": {
  "accelerator": "GPU",
  "colab": {
   "collapsed_sections": [],
   "name": "Flowers Classification.ipynb",
   "provenance": [],
   "version": "0.3.2"
  },
  "kernelspec": {
   "display_name": "Python 3",
   "language": "python",
   "name": "python3"
  },
  "language_info": {
   "codemirror_mode": {
    "name": "ipython",
    "version": 3
   },
   "file_extension": ".py",
   "mimetype": "text/x-python",
   "name": "python",
   "nbconvert_exporter": "python",
   "pygments_lexer": "ipython3",
   "version": "3.6.3"
  }
 },
 "nbformat": 4,
 "nbformat_minor": 1
}
